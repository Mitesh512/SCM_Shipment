{
 "cells": [
  {
   "cell_type": "code",
   "execution_count": 2,
   "metadata": {},
   "outputs": [],
   "source": [
    "# Importing Libraries\n",
    "import pandas as pd\n",
    "import numpy as np\n",
    "import matplotlib.pyplot as plt\n",
    "%matplotlib inline\n",
    "import seaborn as sns\n",
    "from sklearn.preprocessing import StandardScaler"
   ]
  },
  {
   "cell_type": "code",
   "execution_count": 3,
   "metadata": {},
   "outputs": [],
   "source": [
    "df =  pd.read_csv('SCMS_Delivery_History_Dataset_20150929.csv')"
   ]
  },
  {
   "cell_type": "code",
   "execution_count": 12,
   "metadata": {},
   "outputs": [],
   "source": [
    "Df = pd.DataFrame(df)"
   ]
  },
  {
   "cell_type": "code",
   "execution_count": 16,
   "metadata": {},
   "outputs": [
    {
     "data": {
      "text/plain": [
       "116-ZA-T30    768\n",
       "104-CI-T30    729\n",
       "151-NG-T30    628\n",
       "114-UG-T30    596\n",
       "108-VN-T30    522\n",
       "106-HT-T30    450\n",
       "111-MZ-T30    431\n",
       "110-ZM-T30    406\n",
       "109-TZ-T30    369\n",
       "107-RW-T30    340\n",
       "116-ZA-T01    319\n",
       "161-ZA-T30    315\n",
       "104-CI-T01    314\n",
       "101-CD-T30    308\n",
       "113-ZW-T30    263\n",
       "110-ZM-T01    260\n",
       "111-MZ-T01    200\n",
       "106-HT-T01    171\n",
       "108-VN-T01    166\n",
       "105-GY-T30    159\n",
       "133-NG-T30    145\n",
       "112-NG-T01    139\n",
       "109-TZ-T01    135\n",
       "114-UG-T01    134\n",
       "117-ET-T01    118\n",
       "103-ZW-T30    101\n",
       "102-BI-T30     98\n",
       "117-ET-T30     98\n",
       "105-SS-T30     91\n",
       "107-RW-T01     90\n",
       "             ... \n",
       "901-LR-T30      3\n",
       "101-AF-T30      3\n",
       "103-AO-T30      3\n",
       "A02-SL-T50      3\n",
       "900-LR-T30      3\n",
       "104-BW-T30      3\n",
       "900-TG-T30      3\n",
       "127-KE-T01      3\n",
       "A01-ZM-T50      2\n",
       "800-LS-T30      2\n",
       "102-LS-T01      2\n",
       "A01-BF-T50      2\n",
       "A01-CM-T50      2\n",
       "203-SZ-T30      2\n",
       "100-KZ-T01      2\n",
       "120-AO-T01      2\n",
       "129-KG-T01      2\n",
       "102-AO-T30      2\n",
       "136-RW-T01      1\n",
       "A01-SN-T50      1\n",
       "103-CD-T30      1\n",
       "201-UG-T30      1\n",
       "A02-SN-T50      1\n",
       "900-GY-T30      1\n",
       "100-BZ-T30      1\n",
       "100-SL-T01      1\n",
       "100-GN-T30      1\n",
       "103-UG-T30      1\n",
       "100-SN-T01      1\n",
       "104-SZ-T30      1\n",
       "Name: Project Code, Length: 142, dtype: int64"
      ]
     },
     "execution_count": 16,
     "metadata": {},
     "output_type": "execute_result"
    }
   ],
   "source": [
    "df['Project Code'].value_counts()"
   ]
  },
  {
   "cell_type": "code",
   "execution_count": 5,
   "metadata": {},
   "outputs": [
    {
     "name": "stdout",
     "output_type": "stream",
     "text": [
      "<class 'pandas.core.frame.DataFrame'>\n",
      "RangeIndex: 10324 entries, 0 to 10323\n",
      "Data columns (total 33 columns):\n",
      "ID                              10324 non-null int64\n",
      "Project Code                    10324 non-null object\n",
      "PQ #                            10324 non-null object\n",
      "PO / SO #                       10324 non-null object\n",
      "ASN/DN #                        10324 non-null object\n",
      "Country                         10324 non-null object\n",
      "Managed By                      10324 non-null object\n",
      "Fulfill Via                     10324 non-null object\n",
      "Vendor INCO Term                10324 non-null object\n",
      "Shipment Mode                   9964 non-null object\n",
      "PQ First Sent to Client Date    10324 non-null object\n",
      "PO Sent to Vendor Date          10324 non-null object\n",
      "Scheduled Delivery Date         10324 non-null object\n",
      "Delivered to Client Date        10324 non-null object\n",
      "Delivery Recorded Date          10324 non-null object\n",
      "Product Group                   10324 non-null object\n",
      "Sub Classification              10324 non-null object\n",
      "Vendor                          10324 non-null object\n",
      "Item Description                10324 non-null object\n",
      "Molecule/Test Type              10324 non-null object\n",
      "Brand                           10324 non-null object\n",
      "Dosage                          8588 non-null object\n",
      "Dosage Form                     10324 non-null object\n",
      "Unit of Measure (Per Pack)      10324 non-null int64\n",
      "Line Item Quantity              10324 non-null int64\n",
      "Line Item Value                 10324 non-null float64\n",
      "Pack Price                      10324 non-null float64\n",
      "Unit Price                      10324 non-null float64\n",
      "Manufacturing Site              10324 non-null object\n",
      "First Line Designation          10324 non-null object\n",
      "Weight (Kilograms)              10324 non-null object\n",
      "Freight Cost (USD)              10324 non-null object\n",
      "Line Item Insurance (USD)       10037 non-null float64\n",
      "dtypes: float64(4), int64(3), object(26)\n",
      "memory usage: 2.6+ MB\n"
     ]
    }
   ],
   "source": [
    "df.info()"
   ]
  },
  {
   "cell_type": "code",
   "execution_count": 6,
   "metadata": {},
   "outputs": [
    {
     "data": {
      "text/html": [
       "<div>\n",
       "<style scoped>\n",
       "    .dataframe tbody tr th:only-of-type {\n",
       "        vertical-align: middle;\n",
       "    }\n",
       "\n",
       "    .dataframe tbody tr th {\n",
       "        vertical-align: top;\n",
       "    }\n",
       "\n",
       "    .dataframe thead th {\n",
       "        text-align: right;\n",
       "    }\n",
       "</style>\n",
       "<table border=\"1\" class=\"dataframe\">\n",
       "  <thead>\n",
       "    <tr style=\"text-align: right;\">\n",
       "      <th></th>\n",
       "      <th>ID</th>\n",
       "      <th>Unit of Measure (Per Pack)</th>\n",
       "      <th>Line Item Quantity</th>\n",
       "      <th>Line Item Value</th>\n",
       "      <th>Pack Price</th>\n",
       "      <th>Unit Price</th>\n",
       "      <th>Line Item Insurance (USD)</th>\n",
       "    </tr>\n",
       "  </thead>\n",
       "  <tbody>\n",
       "    <tr>\n",
       "      <th>count</th>\n",
       "      <td>10324.000000</td>\n",
       "      <td>10324.000000</td>\n",
       "      <td>10324.000000</td>\n",
       "      <td>1.032400e+04</td>\n",
       "      <td>10324.000000</td>\n",
       "      <td>10324.000000</td>\n",
       "      <td>10037.000000</td>\n",
       "    </tr>\n",
       "    <tr>\n",
       "      <th>mean</th>\n",
       "      <td>51098.968229</td>\n",
       "      <td>77.990895</td>\n",
       "      <td>18332.534870</td>\n",
       "      <td>1.576506e+05</td>\n",
       "      <td>21.910241</td>\n",
       "      <td>0.611701</td>\n",
       "      <td>240.117626</td>\n",
       "    </tr>\n",
       "    <tr>\n",
       "      <th>std</th>\n",
       "      <td>31944.332496</td>\n",
       "      <td>76.579764</td>\n",
       "      <td>40035.302961</td>\n",
       "      <td>3.452921e+05</td>\n",
       "      <td>45.609223</td>\n",
       "      <td>3.275808</td>\n",
       "      <td>500.190568</td>\n",
       "    </tr>\n",
       "    <tr>\n",
       "      <th>min</th>\n",
       "      <td>1.000000</td>\n",
       "      <td>1.000000</td>\n",
       "      <td>1.000000</td>\n",
       "      <td>0.000000e+00</td>\n",
       "      <td>0.000000</td>\n",
       "      <td>0.000000</td>\n",
       "      <td>0.000000</td>\n",
       "    </tr>\n",
       "    <tr>\n",
       "      <th>25%</th>\n",
       "      <td>12795.750000</td>\n",
       "      <td>30.000000</td>\n",
       "      <td>408.000000</td>\n",
       "      <td>4.314593e+03</td>\n",
       "      <td>4.120000</td>\n",
       "      <td>0.080000</td>\n",
       "      <td>6.510000</td>\n",
       "    </tr>\n",
       "    <tr>\n",
       "      <th>50%</th>\n",
       "      <td>57540.500000</td>\n",
       "      <td>60.000000</td>\n",
       "      <td>3000.000000</td>\n",
       "      <td>3.047147e+04</td>\n",
       "      <td>9.300000</td>\n",
       "      <td>0.160000</td>\n",
       "      <td>47.040000</td>\n",
       "    </tr>\n",
       "    <tr>\n",
       "      <th>75%</th>\n",
       "      <td>83648.250000</td>\n",
       "      <td>90.000000</td>\n",
       "      <td>17039.750000</td>\n",
       "      <td>1.664471e+05</td>\n",
       "      <td>23.592500</td>\n",
       "      <td>0.470000</td>\n",
       "      <td>252.400000</td>\n",
       "    </tr>\n",
       "    <tr>\n",
       "      <th>max</th>\n",
       "      <td>86823.000000</td>\n",
       "      <td>1000.000000</td>\n",
       "      <td>619999.000000</td>\n",
       "      <td>5.951990e+06</td>\n",
       "      <td>1345.640000</td>\n",
       "      <td>238.650000</td>\n",
       "      <td>7708.440000</td>\n",
       "    </tr>\n",
       "  </tbody>\n",
       "</table>\n",
       "</div>"
      ],
      "text/plain": [
       "                 ID  Unit of Measure (Per Pack)  Line Item Quantity  \\\n",
       "count  10324.000000                10324.000000        10324.000000   \n",
       "mean   51098.968229                   77.990895        18332.534870   \n",
       "std    31944.332496                   76.579764        40035.302961   \n",
       "min        1.000000                    1.000000            1.000000   \n",
       "25%    12795.750000                   30.000000          408.000000   \n",
       "50%    57540.500000                   60.000000         3000.000000   \n",
       "75%    83648.250000                   90.000000        17039.750000   \n",
       "max    86823.000000                 1000.000000       619999.000000   \n",
       "\n",
       "       Line Item Value    Pack Price    Unit Price  Line Item Insurance (USD)  \n",
       "count     1.032400e+04  10324.000000  10324.000000               10037.000000  \n",
       "mean      1.576506e+05     21.910241      0.611701                 240.117626  \n",
       "std       3.452921e+05     45.609223      3.275808                 500.190568  \n",
       "min       0.000000e+00      0.000000      0.000000                   0.000000  \n",
       "25%       4.314593e+03      4.120000      0.080000                   6.510000  \n",
       "50%       3.047147e+04      9.300000      0.160000                  47.040000  \n",
       "75%       1.664471e+05     23.592500      0.470000                 252.400000  \n",
       "max       5.951990e+06   1345.640000    238.650000                7708.440000  "
      ]
     },
     "execution_count": 6,
     "metadata": {},
     "output_type": "execute_result"
    }
   ],
   "source": [
    "df.describe()"
   ]
  },
  {
   "cell_type": "code",
   "execution_count": 7,
   "metadata": {},
   "outputs": [
    {
     "data": {
      "text/plain": [
       "Index(['ID', 'Project Code', 'PQ #', 'PO / SO #', 'ASN/DN #', 'Country',\n",
       "       'Managed By', 'Fulfill Via', 'Vendor INCO Term', 'Shipment Mode',\n",
       "       'PQ First Sent to Client Date', 'PO Sent to Vendor Date',\n",
       "       'Scheduled Delivery Date', 'Delivered to Client Date',\n",
       "       'Delivery Recorded Date', 'Product Group', 'Sub Classification',\n",
       "       'Vendor', 'Item Description', 'Molecule/Test Type', 'Brand', 'Dosage',\n",
       "       'Dosage Form', 'Unit of Measure (Per Pack)', 'Line Item Quantity',\n",
       "       'Line Item Value', 'Pack Price', 'Unit Price', 'Manufacturing Site',\n",
       "       'First Line Designation', 'Weight (Kilograms)', 'Freight Cost (USD)',\n",
       "       'Line Item Insurance (USD)'],\n",
       "      dtype='object')"
      ]
     },
     "execution_count": 7,
     "metadata": {},
     "output_type": "execute_result"
    }
   ],
   "source": [
    "df.columns"
   ]
  },
  {
   "cell_type": "code",
   "execution_count": 18,
   "metadata": {},
   "outputs": [
    {
     "data": {
      "text/plain": [
       "142"
      ]
     },
     "execution_count": 18,
     "metadata": {},
     "output_type": "execute_result"
    }
   ],
   "source": [
    "df['Project Code'].value_counts().count()"
   ]
  },
  {
   "cell_type": "code",
   "execution_count": null,
   "metadata": {},
   "outputs": [],
   "source": []
  },
  {
   "cell_type": "code",
   "execution_count": null,
   "metadata": {},
   "outputs": [],
   "source": []
  },
  {
   "cell_type": "code",
   "execution_count": null,
   "metadata": {},
   "outputs": [],
   "source": []
  },
  {
   "cell_type": "code",
   "execution_count": null,
   "metadata": {},
   "outputs": [],
   "source": []
  },
  {
   "cell_type": "code",
   "execution_count": null,
   "metadata": {},
   "outputs": [],
   "source": []
  },
  {
   "cell_type": "code",
   "execution_count": null,
   "metadata": {},
   "outputs": [],
   "source": []
  },
  {
   "cell_type": "code",
   "execution_count": null,
   "metadata": {},
   "outputs": [],
   "source": []
  },
  {
   "cell_type": "code",
   "execution_count": null,
   "metadata": {},
   "outputs": [],
   "source": []
  },
  {
   "cell_type": "code",
   "execution_count": null,
   "metadata": {},
   "outputs": [],
   "source": []
  },
  {
   "cell_type": "code",
   "execution_count": null,
   "metadata": {},
   "outputs": [],
   "source": []
  },
  {
   "cell_type": "code",
   "execution_count": null,
   "metadata": {},
   "outputs": [],
   "source": []
  },
  {
   "cell_type": "code",
   "execution_count": null,
   "metadata": {},
   "outputs": [],
   "source": []
  },
  {
   "cell_type": "code",
   "execution_count": null,
   "metadata": {},
   "outputs": [],
   "source": []
  },
  {
   "cell_type": "code",
   "execution_count": null,
   "metadata": {},
   "outputs": [],
   "source": []
  },
  {
   "cell_type": "code",
   "execution_count": null,
   "metadata": {},
   "outputs": [],
   "source": []
  },
  {
   "cell_type": "code",
   "execution_count": null,
   "metadata": {},
   "outputs": [],
   "source": []
  },
  {
   "cell_type": "code",
   "execution_count": null,
   "metadata": {},
   "outputs": [],
   "source": []
  },
  {
   "cell_type": "code",
   "execution_count": null,
   "metadata": {},
   "outputs": [],
   "source": []
  },
  {
   "cell_type": "code",
   "execution_count": null,
   "metadata": {},
   "outputs": [],
   "source": []
  },
  {
   "cell_type": "code",
   "execution_count": null,
   "metadata": {},
   "outputs": [],
   "source": []
  },
  {
   "cell_type": "code",
   "execution_count": null,
   "metadata": {},
   "outputs": [],
   "source": []
  },
  {
   "cell_type": "code",
   "execution_count": null,
   "metadata": {},
   "outputs": [],
   "source": []
  },
  {
   "cell_type": "code",
   "execution_count": null,
   "metadata": {},
   "outputs": [],
   "source": []
  }
 ],
 "metadata": {
  "kernelspec": {
   "display_name": "Python 3",
   "language": "python",
   "name": "python3"
  },
  "language_info": {
   "codemirror_mode": {
    "name": "ipython",
    "version": 3
   },
   "file_extension": ".py",
   "mimetype": "text/x-python",
   "name": "python",
   "nbconvert_exporter": "python",
   "pygments_lexer": "ipython3",
   "version": "3.7.3"
  }
 },
 "nbformat": 4,
 "nbformat_minor": 2
}
